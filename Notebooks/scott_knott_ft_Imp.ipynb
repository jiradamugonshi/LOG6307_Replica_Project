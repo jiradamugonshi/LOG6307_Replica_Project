{
 "cells": [
  {
   "cell_type": "code",
   "execution_count": 1,
   "metadata": {
    "vscode": {
     "languageId": "r"
    }
   },
   "outputs": [
    {
     "name": "stderr",
     "output_type": "stream",
     "text": [
      "Installation du package dans 'C:/Users/Terranova/AppData/Local/R/win-library/4.4'\n",
      "(car 'lib' n'est pas spécifié)\n",
      "\n"
     ]
    },
    {
     "name": "stdout",
     "output_type": "stream",
     "text": [
      "le package 'ScottKnottESD' a été décompressé et les sommes MD5 ont été vérifiées avec succés\n",
      "\n",
      "Les packages binaires téléchargés sont dans\n",
      "\tC:\\Users\\Terranova\\AppData\\Local\\Temp\\Rtmp4gDPvX\\downloaded_packages\n"
     ]
    }
   ],
   "source": [
    "install.packages(\"ScottKnottESD\")"
   ]
  },
  {
   "cell_type": "code",
   "execution_count": 2,
   "metadata": {
    "vscode": {
     "languageId": "r"
    }
   },
   "outputs": [
    {
     "name": "stderr",
     "output_type": "stream",
     "text": [
      "Le chargement a nécessité le package : reshape2\n",
      "\n",
      "Le chargement a nécessité le package : effsize\n",
      "\n",
      "Le chargement a nécessité le package : car\n",
      "\n",
      "Le chargement a nécessité le package : carData\n",
      "\n",
      "Registered S3 method overwritten by 'quantmod':\n",
      "  method            from\n",
      "  as.zoo.data.frame zoo \n",
      "\n"
     ]
    }
   ],
   "source": [
    "library(ScottKnottESD)"
   ]
  },
  {
   "cell_type": "code",
   "execution_count": 3,
   "metadata": {
    "vscode": {
     "languageId": "r"
    }
   },
   "outputs": [],
   "source": [
    "feature_importance_df <- read.csv(\"feature_importance.csv\")"
   ]
  },
  {
   "cell_type": "code",
   "execution_count": 4,
   "metadata": {
    "vscode": {
     "languageId": "r"
    }
   },
   "outputs": [
    {
     "data": {
      "text/html": [
       "<table class=\"dataframe\">\n",
       "<caption>A data.frame: 10 × 12</caption>\n",
       "<thead>\n",
       "\t<tr><th scope=col>URL</th><th scope=col>File</th><th scope=col>Require</th><th scope=col>Ensure</th><th scope=col>Include</th><th scope=col>Attribute</th><th scope=col>Hard_coded_string</th><th scope=col>Command</th><th scope=col>File_mode</th><th scope=col>SSH_KEY</th><th scope=col>Lines_of_code</th><th scope=col>Comment</th></tr>\n",
       "\t<tr><th scope=col>&lt;dbl&gt;</th><th scope=col>&lt;dbl&gt;</th><th scope=col>&lt;dbl&gt;</th><th scope=col>&lt;dbl&gt;</th><th scope=col>&lt;dbl&gt;</th><th scope=col>&lt;dbl&gt;</th><th scope=col>&lt;dbl&gt;</th><th scope=col>&lt;dbl&gt;</th><th scope=col>&lt;dbl&gt;</th><th scope=col>&lt;dbl&gt;</th><th scope=col>&lt;dbl&gt;</th><th scope=col>&lt;dbl&gt;</th></tr>\n",
       "</thead>\n",
       "<tbody>\n",
       "\t<tr><td>0.04339207</td><td>0.07002677</td><td>0.04199515</td><td>0.04716941</td><td>0.09827074</td><td>0.1445699</td><td>0.1585974</td><td>0.03058913</td><td>0.01574027</td><td>0.01348813</td><td>0.2225374</td><td>0.1136236</td></tr>\n",
       "\t<tr><td>0.04161119</td><td>0.07777517</td><td>0.03767954</td><td>0.04730043</td><td>0.10692947</td><td>0.1478668</td><td>0.1735798</td><td>0.02623735</td><td>0.01377842</td><td>0.01531478</td><td>0.1944057</td><td>0.1175214</td></tr>\n",
       "\t<tr><td>0.03767569</td><td>0.06090174</td><td>0.04076461</td><td>0.04266028</td><td>0.09761959</td><td>0.1671677</td><td>0.1578066</td><td>0.02845246</td><td>0.01976111</td><td>0.01718954</td><td>0.2098544</td><td>0.1201462</td></tr>\n",
       "\t<tr><td>0.03456109</td><td>0.06107386</td><td>0.03699551</td><td>0.04623059</td><td>0.10548416</td><td>0.1497163</td><td>0.1609664</td><td>0.02802394</td><td>0.01506257</td><td>0.01703216</td><td>0.2286736</td><td>0.1161797</td></tr>\n",
       "\t<tr><td>0.03943286</td><td>0.06583838</td><td>0.03818058</td><td>0.04806256</td><td>0.10512821</td><td>0.1560156</td><td>0.1700074</td><td>0.02761116</td><td>0.01586577</td><td>0.01698250</td><td>0.2026453</td><td>0.1142296</td></tr>\n",
       "\t<tr><td>0.04476809</td><td>0.06688763</td><td>0.03707330</td><td>0.04381269</td><td>0.10592970</td><td>0.1627017</td><td>0.1523228</td><td>0.03023156</td><td>0.01394198</td><td>0.01840056</td><td>0.2057769</td><td>0.1181532</td></tr>\n",
       "\t<tr><td>0.04337025</td><td>0.06109272</td><td>0.04126266</td><td>0.04862895</td><td>0.10282824</td><td>0.1500866</td><td>0.1741141</td><td>0.02307666</td><td>0.01372979</td><td>0.01348424</td><td>0.2059358</td><td>0.1223900</td></tr>\n",
       "\t<tr><td>0.03910971</td><td>0.06365545</td><td>0.04101443</td><td>0.04410683</td><td>0.09856924</td><td>0.1556291</td><td>0.1601212</td><td>0.02491214</td><td>0.01557340</td><td>0.01717808</td><td>0.2188670</td><td>0.1212634</td></tr>\n",
       "\t<tr><td>0.04118936</td><td>0.07183110</td><td>0.03986227</td><td>0.04290640</td><td>0.10793628</td><td>0.1503633</td><td>0.1711520</td><td>0.02676068</td><td>0.01154553</td><td>0.01811557</td><td>0.2008245</td><td>0.1175130</td></tr>\n",
       "\t<tr><td>0.03967735</td><td>0.06525847</td><td>0.03784996</td><td>0.04390351</td><td>0.10648850</td><td>0.1443220</td><td>0.1737808</td><td>0.02782500</td><td>0.01481356</td><td>0.01629866</td><td>0.2122849</td><td>0.1174973</td></tr>\n",
       "</tbody>\n",
       "</table>\n"
      ],
      "text/latex": [
       "A data.frame: 10 × 12\n",
       "\\begin{tabular}{llllllllllll}\n",
       " URL & File & Require & Ensure & Include & Attribute & Hard\\_coded\\_string & Command & File\\_mode & SSH\\_KEY & Lines\\_of\\_code & Comment\\\\\n",
       " <dbl> & <dbl> & <dbl> & <dbl> & <dbl> & <dbl> & <dbl> & <dbl> & <dbl> & <dbl> & <dbl> & <dbl>\\\\\n",
       "\\hline\n",
       "\t 0.04339207 & 0.07002677 & 0.04199515 & 0.04716941 & 0.09827074 & 0.1445699 & 0.1585974 & 0.03058913 & 0.01574027 & 0.01348813 & 0.2225374 & 0.1136236\\\\\n",
       "\t 0.04161119 & 0.07777517 & 0.03767954 & 0.04730043 & 0.10692947 & 0.1478668 & 0.1735798 & 0.02623735 & 0.01377842 & 0.01531478 & 0.1944057 & 0.1175214\\\\\n",
       "\t 0.03767569 & 0.06090174 & 0.04076461 & 0.04266028 & 0.09761959 & 0.1671677 & 0.1578066 & 0.02845246 & 0.01976111 & 0.01718954 & 0.2098544 & 0.1201462\\\\\n",
       "\t 0.03456109 & 0.06107386 & 0.03699551 & 0.04623059 & 0.10548416 & 0.1497163 & 0.1609664 & 0.02802394 & 0.01506257 & 0.01703216 & 0.2286736 & 0.1161797\\\\\n",
       "\t 0.03943286 & 0.06583838 & 0.03818058 & 0.04806256 & 0.10512821 & 0.1560156 & 0.1700074 & 0.02761116 & 0.01586577 & 0.01698250 & 0.2026453 & 0.1142296\\\\\n",
       "\t 0.04476809 & 0.06688763 & 0.03707330 & 0.04381269 & 0.10592970 & 0.1627017 & 0.1523228 & 0.03023156 & 0.01394198 & 0.01840056 & 0.2057769 & 0.1181532\\\\\n",
       "\t 0.04337025 & 0.06109272 & 0.04126266 & 0.04862895 & 0.10282824 & 0.1500866 & 0.1741141 & 0.02307666 & 0.01372979 & 0.01348424 & 0.2059358 & 0.1223900\\\\\n",
       "\t 0.03910971 & 0.06365545 & 0.04101443 & 0.04410683 & 0.09856924 & 0.1556291 & 0.1601212 & 0.02491214 & 0.01557340 & 0.01717808 & 0.2188670 & 0.1212634\\\\\n",
       "\t 0.04118936 & 0.07183110 & 0.03986227 & 0.04290640 & 0.10793628 & 0.1503633 & 0.1711520 & 0.02676068 & 0.01154553 & 0.01811557 & 0.2008245 & 0.1175130\\\\\n",
       "\t 0.03967735 & 0.06525847 & 0.03784996 & 0.04390351 & 0.10648850 & 0.1443220 & 0.1737808 & 0.02782500 & 0.01481356 & 0.01629866 & 0.2122849 & 0.1174973\\\\\n",
       "\\end{tabular}\n"
      ],
      "text/markdown": [
       "\n",
       "A data.frame: 10 × 12\n",
       "\n",
       "| URL &lt;dbl&gt; | File &lt;dbl&gt; | Require &lt;dbl&gt; | Ensure &lt;dbl&gt; | Include &lt;dbl&gt; | Attribute &lt;dbl&gt; | Hard_coded_string &lt;dbl&gt; | Command &lt;dbl&gt; | File_mode &lt;dbl&gt; | SSH_KEY &lt;dbl&gt; | Lines_of_code &lt;dbl&gt; | Comment &lt;dbl&gt; |\n",
       "|---|---|---|---|---|---|---|---|---|---|---|---|\n",
       "| 0.04339207 | 0.07002677 | 0.04199515 | 0.04716941 | 0.09827074 | 0.1445699 | 0.1585974 | 0.03058913 | 0.01574027 | 0.01348813 | 0.2225374 | 0.1136236 |\n",
       "| 0.04161119 | 0.07777517 | 0.03767954 | 0.04730043 | 0.10692947 | 0.1478668 | 0.1735798 | 0.02623735 | 0.01377842 | 0.01531478 | 0.1944057 | 0.1175214 |\n",
       "| 0.03767569 | 0.06090174 | 0.04076461 | 0.04266028 | 0.09761959 | 0.1671677 | 0.1578066 | 0.02845246 | 0.01976111 | 0.01718954 | 0.2098544 | 0.1201462 |\n",
       "| 0.03456109 | 0.06107386 | 0.03699551 | 0.04623059 | 0.10548416 | 0.1497163 | 0.1609664 | 0.02802394 | 0.01506257 | 0.01703216 | 0.2286736 | 0.1161797 |\n",
       "| 0.03943286 | 0.06583838 | 0.03818058 | 0.04806256 | 0.10512821 | 0.1560156 | 0.1700074 | 0.02761116 | 0.01586577 | 0.01698250 | 0.2026453 | 0.1142296 |\n",
       "| 0.04476809 | 0.06688763 | 0.03707330 | 0.04381269 | 0.10592970 | 0.1627017 | 0.1523228 | 0.03023156 | 0.01394198 | 0.01840056 | 0.2057769 | 0.1181532 |\n",
       "| 0.04337025 | 0.06109272 | 0.04126266 | 0.04862895 | 0.10282824 | 0.1500866 | 0.1741141 | 0.02307666 | 0.01372979 | 0.01348424 | 0.2059358 | 0.1223900 |\n",
       "| 0.03910971 | 0.06365545 | 0.04101443 | 0.04410683 | 0.09856924 | 0.1556291 | 0.1601212 | 0.02491214 | 0.01557340 | 0.01717808 | 0.2188670 | 0.1212634 |\n",
       "| 0.04118936 | 0.07183110 | 0.03986227 | 0.04290640 | 0.10793628 | 0.1503633 | 0.1711520 | 0.02676068 | 0.01154553 | 0.01811557 | 0.2008245 | 0.1175130 |\n",
       "| 0.03967735 | 0.06525847 | 0.03784996 | 0.04390351 | 0.10648850 | 0.1443220 | 0.1737808 | 0.02782500 | 0.01481356 | 0.01629866 | 0.2122849 | 0.1174973 |\n",
       "\n"
      ],
      "text/plain": [
       "   URL        File       Require    Ensure     Include    Attribute\n",
       "1  0.04339207 0.07002677 0.04199515 0.04716941 0.09827074 0.1445699\n",
       "2  0.04161119 0.07777517 0.03767954 0.04730043 0.10692947 0.1478668\n",
       "3  0.03767569 0.06090174 0.04076461 0.04266028 0.09761959 0.1671677\n",
       "4  0.03456109 0.06107386 0.03699551 0.04623059 0.10548416 0.1497163\n",
       "5  0.03943286 0.06583838 0.03818058 0.04806256 0.10512821 0.1560156\n",
       "6  0.04476809 0.06688763 0.03707330 0.04381269 0.10592970 0.1627017\n",
       "7  0.04337025 0.06109272 0.04126266 0.04862895 0.10282824 0.1500866\n",
       "8  0.03910971 0.06365545 0.04101443 0.04410683 0.09856924 0.1556291\n",
       "9  0.04118936 0.07183110 0.03986227 0.04290640 0.10793628 0.1503633\n",
       "10 0.03967735 0.06525847 0.03784996 0.04390351 0.10648850 0.1443220\n",
       "   Hard_coded_string Command    File_mode  SSH_KEY    Lines_of_code Comment  \n",
       "1  0.1585974         0.03058913 0.01574027 0.01348813 0.2225374     0.1136236\n",
       "2  0.1735798         0.02623735 0.01377842 0.01531478 0.1944057     0.1175214\n",
       "3  0.1578066         0.02845246 0.01976111 0.01718954 0.2098544     0.1201462\n",
       "4  0.1609664         0.02802394 0.01506257 0.01703216 0.2286736     0.1161797\n",
       "5  0.1700074         0.02761116 0.01586577 0.01698250 0.2026453     0.1142296\n",
       "6  0.1523228         0.03023156 0.01394198 0.01840056 0.2057769     0.1181532\n",
       "7  0.1741141         0.02307666 0.01372979 0.01348424 0.2059358     0.1223900\n",
       "8  0.1601212         0.02491214 0.01557340 0.01717808 0.2188670     0.1212634\n",
       "9  0.1711520         0.02676068 0.01154553 0.01811557 0.2008245     0.1175130\n",
       "10 0.1737808         0.02782500 0.01481356 0.01629866 0.2122849     0.1174973"
      ]
     },
     "metadata": {},
     "output_type": "display_data"
    }
   ],
   "source": [
    "feature_importance_df"
   ]
  },
  {
   "cell_type": "code",
   "execution_count": 5,
   "metadata": {
    "vscode": {
     "languageId": "r"
    }
   },
   "outputs": [],
   "source": [
    "sk_results <- sk_esd(feature_importance_df)"
   ]
  },
  {
   "cell_type": "code",
   "execution_count": 6,
   "metadata": {
    "vscode": {
     "languageId": "r"
    }
   },
   "outputs": [
    {
     "data": {
      "text/plain": [
       "\n",
       "Groups:\n",
       "    Lines_of_code Hard_coded_string         Attribute           Comment \n",
       "                1                 2                 3                 4 \n",
       "          Include              File            Ensure               URL \n",
       "                5                 6                 7                 8 \n",
       "          Require           Command           SSH_KEY         File_mode \n",
       "                9                10                11                12 "
      ]
     },
     "metadata": {},
     "output_type": "display_data"
    }
   ],
   "source": [
    "sk_results"
   ]
  }
 ],
 "metadata": {
  "kernelspec": {
   "display_name": "R",
   "language": "R",
   "name": "ir"
  },
  "language_info": {
   "codemirror_mode": "r",
   "file_extension": ".r",
   "mimetype": "text/x-r-source",
   "name": "R",
   "pygments_lexer": "r",
   "version": "4.4.1"
  }
 },
 "nbformat": 4,
 "nbformat_minor": 2
}
