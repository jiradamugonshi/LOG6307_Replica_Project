{
 "cells": [
  {
   "cell_type": "code",
   "execution_count": 33,
   "metadata": {},
   "outputs": [
    {
     "name": "stdout",
     "output_type": "stream",
     "text": [
      "Requirement already satisfied: scikit-learn in c:\\users\\terranova\\appdata\\local\\programs\\python\\python311\\lib\\site-packages (1.5.2)Note: you may need to restart the kernel to use updated packages.\n",
      "\n",
      "Requirement already satisfied: numpy>=1.19.5 in c:\\users\\terranova\\appdata\\local\\programs\\python\\python311\\lib\\site-packages (from scikit-learn) (2.1.1)\n",
      "Requirement already satisfied: scipy>=1.6.0 in c:\\users\\terranova\\appdata\\local\\programs\\python\\python311\\lib\\site-packages (from scikit-learn) (1.14.1)\n",
      "Requirement already satisfied: joblib>=1.2.0 in c:\\users\\terranova\\appdata\\local\\programs\\python\\python311\\lib\\site-packages (from scikit-learn) (1.4.2)\n",
      "Requirement already satisfied: threadpoolctl>=3.1.0 in c:\\users\\terranova\\appdata\\local\\programs\\python\\python311\\lib\\site-packages (from scikit-learn) (3.5.0)\n"
     ]
    },
    {
     "name": "stderr",
     "output_type": "stream",
     "text": [
      "\n",
      "[notice] A new release of pip is available: 23.3.2 -> 24.2\n",
      "[notice] To update, run: python.exe -m pip install --upgrade pip\n"
     ]
    }
   ],
   "source": [
    "%pip install scikit-learn"
   ]
  },
  {
   "cell_type": "code",
   "execution_count": 34,
   "metadata": {},
   "outputs": [],
   "source": [
    "import pandas as pd\n",
    "import numpy as np\n",
    "from sklearn.decomposition import PCA\n",
    "from sklearn.preprocessing import StandardScaler\n",
    "from sklearn.model_selection import train_test_split\n",
    "from sklearn.linear_model import LogisticRegression\n",
    "from sklearn.tree import DecisionTreeClassifier\n",
    "from sklearn.naive_bayes import GaussianNB\n",
    "from sklearn.neighbors import KNeighborsClassifier\n",
    "from sklearn.ensemble import RandomForestClassifier\n",
    "from sklearn.model_selection import RepeatedStratifiedKFold, cross_validate\n",
    "from sklearn.metrics import make_scorer, precision_score, recall_score, f1_score, roc_auc_score"
   ]
  },
  {
   "cell_type": "code",
   "execution_count": 35,
   "metadata": {},
   "outputs": [],
   "source": [
    "csvFile = pd.read_csv('IST_MIR.csv')\n",
    "X = csvFile.iloc[:, 2:14].values\n",
    "y = csvFile.iloc[:, 14].values"
   ]
  },
  {
   "cell_type": "code",
   "execution_count": 36,
   "metadata": {},
   "outputs": [],
   "source": [
    "pca = PCA(n_components=0.95)\n",
    "pca_X = pca.fit_transform(X)\n",
    "\n",
    "# Define the scorers for precision, recall, F1, and AUC\n",
    "scoring = {\n",
    "    'precision': make_scorer(precision_score),\n",
    "    'recall': make_scorer(recall_score),\n",
    "    'f1': make_scorer(f1_score),\n",
    "    'roc_auc': 'roc_auc'\n",
    "}\n",
    "\n",
    "# Set up 10-fold cross-validation, repeated 10 times\n",
    "cv = RepeatedStratifiedKFold(n_splits=10, n_repeats=10, random_state=42)"
   ]
  },
  {
   "cell_type": "code",
   "execution_count": 37,
   "metadata": {},
   "outputs": [],
   "source": [
    "static_learners = [\"LR\", \"CART\", \"NB\", \"KNN\", \"RF\"]\n",
    "\n",
    "precision_scores_df = pd.DataFrame(columns=static_learners)\n",
    "recall_scores_df = pd.DataFrame(columns=static_learners)\n",
    "f1_scores_df = pd.DataFrame(columns=static_learners)\n",
    "auc_scores_df = pd.DataFrame(columns=static_learners)"
   ]
  },
  {
   "cell_type": "code",
   "execution_count": 38,
   "metadata": {},
   "outputs": [
    {
     "name": "stdout",
     "output_type": "stream",
     "text": [
      "Median Precision over 10-fold cross-validation repeated 10 times: 0.78\n",
      "Median Recall over 10-fold cross-validation repeated 10 times: 0.60\n",
      "Median F1-score over 10-fold cross-validation repeated 10 times: 0.71\n",
      "Median AUC over 10-fold cross-validation repeated 10 times: 0.75\n"
     ]
    }
   ],
   "source": [
    "# Logistic Regression\n",
    "log_reg = LogisticRegression(max_iter=10000)\n",
    "\n",
    "# Perform cross-validation and get scores for each metric\n",
    "cv_results = cross_validate(log_reg, pca_X, y, cv=cv, scoring=scoring)\n",
    "\n",
    "# Calculate median scores\n",
    "median_precision = np.median(cv_results['test_precision'])\n",
    "median_recall = np.median(cv_results['test_recall'])\n",
    "median_f1 = np.median(cv_results['test_f1'])\n",
    "median_auc = np.median(cv_results['test_roc_auc'])\n",
    "\n",
    "\n",
    "# Output the median scores\n",
    "print(f\"Median Precision over 10-fold cross-validation repeated 10 times: {median_precision:.2f}\")\n",
    "print(f\"Median Recall over 10-fold cross-validation repeated 10 times: {median_recall:.2f}\")\n",
    "print(f\"Median F1-score over 10-fold cross-validation repeated 10 times: {median_f1:.2f}\")\n",
    "print(f\"Median AUC over 10-fold cross-validation repeated 10 times: {median_auc:.2f}\")"
   ]
  },
  {
   "cell_type": "code",
   "execution_count": 39,
   "metadata": {},
   "outputs": [],
   "source": [
    "precision_scores = []\n",
    "recall_scores = []\n",
    "f1_scores = []\n",
    "auc_scores = []\n",
    "\n",
    "for i in range(0, len(cv_results['test_precision']), 10):\n",
    "    subset = cv_results['test_precision'][i:i+10]\n",
    "    median = np.median(subset)\n",
    "    precision_scores.append(median)\n",
    "\n",
    "for i in range(0, len(cv_results['test_recall']), 10):\n",
    "    subset = cv_results['test_recall'][i:i+10]\n",
    "    median = np.median(subset)\n",
    "    recall_scores.append(median)\n",
    "\n",
    "for i in range(0, len(cv_results['test_f1']), 10):\n",
    "    subset = cv_results['test_f1'][i:i+10]\n",
    "    median = np.median(subset)\n",
    "    f1_scores.append(median)\n",
    "\n",
    "for i in range(0, len(cv_results['test_roc_auc']), 10):\n",
    "    subset = cv_results['test_roc_auc'][i:i+10]\n",
    "    median = np.median(subset)\n",
    "    auc_scores.append(median)\n",
    "\n",
    "precision_scores_df['LR'] = precision_scores\n",
    "recall_scores_df['LR'] = recall_scores\n",
    "f1_scores_df['LR'] = f1_scores\n",
    "auc_scores_df['LR'] = auc_scores"
   ]
  },
  {
   "cell_type": "code",
   "execution_count": 40,
   "metadata": {},
   "outputs": [
    {
     "name": "stdout",
     "output_type": "stream",
     "text": [
      "Median Precision over 10-fold cross-validation repeated 10 times: 0.70\n",
      "Median Recall over 10-fold cross-validation repeated 10 times: 0.70\n",
      "Median F1-score over 10-fold cross-validation repeated 10 times: 0.71\n",
      "Median AUC over 10-fold cross-validation repeated 10 times: 0.68\n"
     ]
    }
   ],
   "source": [
    "# CART\n",
    "dtclf = DecisionTreeClassifier()\n",
    "\n",
    "# Perform cross-validation and get scores for each metric\n",
    "cv_results = cross_validate(dtclf, pca_X, y, cv=cv, scoring=scoring)\n",
    "\n",
    "# Calculate median scores\n",
    "median_precision = np.median(cv_results['test_precision'])\n",
    "median_recall = np.median(cv_results['test_recall'])\n",
    "median_f1 = np.median(cv_results['test_f1'])\n",
    "median_auc = np.median(cv_results['test_roc_auc'])\n",
    "\n",
    "# Output the median scores\n",
    "print(f\"Median Precision over 10-fold cross-validation repeated 10 times: {median_precision:.2f}\")\n",
    "print(f\"Median Recall over 10-fold cross-validation repeated 10 times: {median_recall:.2f}\")\n",
    "print(f\"Median F1-score over 10-fold cross-validation repeated 10 times: {median_f1:.2f}\")\n",
    "print(f\"Median AUC over 10-fold cross-validation repeated 10 times: {median_auc:.2f}\")"
   ]
  },
  {
   "cell_type": "code",
   "execution_count": 41,
   "metadata": {},
   "outputs": [],
   "source": [
    "precision_scores = []\n",
    "recall_scores = []\n",
    "f1_scores = []\n",
    "auc_scores = []\n",
    "\n",
    "for i in range(0, len(cv_results['test_precision']), 10):\n",
    "    subset = cv_results['test_precision'][i:i+10]\n",
    "    median = np.median(subset)\n",
    "    precision_scores.append(median)\n",
    "\n",
    "for i in range(0, len(cv_results['test_recall']), 10):\n",
    "    subset = cv_results['test_recall'][i:i+10]\n",
    "    median = np.median(subset)\n",
    "    recall_scores.append(median)\n",
    "\n",
    "for i in range(0, len(cv_results['test_f1']), 10):\n",
    "    subset = cv_results['test_f1'][i:i+10]\n",
    "    median = np.median(subset)\n",
    "    f1_scores.append(median)\n",
    "\n",
    "for i in range(0, len(cv_results['test_roc_auc']), 10):\n",
    "    subset = cv_results['test_roc_auc'][i:i+10]\n",
    "    median = np.median(subset)\n",
    "    auc_scores.append(median)\n",
    "\n",
    "precision_scores_df['CART'] = precision_scores\n",
    "recall_scores_df['CART'] = recall_scores\n",
    "f1_scores_df['CART'] = f1_scores\n",
    "auc_scores_df['CART'] = auc_scores"
   ]
  },
  {
   "cell_type": "code",
   "execution_count": 42,
   "metadata": {},
   "outputs": [
    {
     "name": "stdout",
     "output_type": "stream",
     "text": [
      "Median Precision over 10-fold cross-validation repeated 10 times: 0.83\n",
      "Median Recall over 10-fold cross-validation repeated 10 times: 0.33\n",
      "Median F1-score over 10-fold cross-validation repeated 10 times: 0.50\n",
      "Median AUC over 10-fold cross-validation repeated 10 times: 0.71\n"
     ]
    }
   ],
   "source": [
    "# Naive Bayes\n",
    "gnb = GaussianNB()\n",
    "\n",
    "# Perform cross-validation and get scores for each metric\n",
    "cv_results = cross_validate(gnb, pca_X, y, cv=cv, scoring=scoring)\n",
    "\n",
    "# Calculate median scores\n",
    "median_precision = np.median(cv_results['test_precision'])\n",
    "median_recall = np.median(cv_results['test_recall'])\n",
    "median_f1 = np.median(cv_results['test_f1'])\n",
    "median_auc = np.median(cv_results['test_roc_auc'])\n",
    "\n",
    "precision_scores.append(median_precision)\n",
    "recall_scores.append(median_recall)\n",
    "f1_scores.append(median_f1)\n",
    "auc_scores.append(median_auc)\n",
    "\n",
    "# Output the median scores\n",
    "print(f\"Median Precision over 10-fold cross-validation repeated 10 times: {median_precision:.2f}\")\n",
    "print(f\"Median Recall over 10-fold cross-validation repeated 10 times: {median_recall:.2f}\")\n",
    "print(f\"Median F1-score over 10-fold cross-validation repeated 10 times: {median_f1:.2f}\")\n",
    "print(f\"Median AUC over 10-fold cross-validation repeated 10 times: {median_auc:.2f}\")"
   ]
  },
  {
   "cell_type": "code",
   "execution_count": 43,
   "metadata": {},
   "outputs": [],
   "source": [
    "precision_scores = []\n",
    "recall_scores = []\n",
    "f1_scores = []\n",
    "auc_scores = []\n",
    "\n",
    "for i in range(0, len(cv_results['test_precision']), 10):\n",
    "    subset = cv_results['test_precision'][i:i+10]\n",
    "    median = np.median(subset)\n",
    "    precision_scores.append(median)\n",
    "\n",
    "for i in range(0, len(cv_results['test_recall']), 10):\n",
    "    subset = cv_results['test_recall'][i:i+10]\n",
    "    median = np.median(subset)\n",
    "    recall_scores.append(median)\n",
    "\n",
    "for i in range(0, len(cv_results['test_f1']), 10):\n",
    "    subset = cv_results['test_f1'][i:i+10]\n",
    "    median = np.median(subset)\n",
    "    f1_scores.append(median)\n",
    "\n",
    "for i in range(0, len(cv_results['test_roc_auc']), 10):\n",
    "    subset = cv_results['test_roc_auc'][i:i+10]\n",
    "    median = np.median(subset)\n",
    "    auc_scores.append(median)\n",
    "\n",
    "precision_scores_df['NB'] = precision_scores\n",
    "recall_scores_df['NB'] = recall_scores\n",
    "f1_scores_df['NB'] = f1_scores\n",
    "auc_scores_df['NB'] = auc_scores"
   ]
  },
  {
   "cell_type": "code",
   "execution_count": 44,
   "metadata": {},
   "outputs": [
    {
     "name": "stdout",
     "output_type": "stream",
     "text": [
      "Median Precision over 10-fold cross-validation repeated 10 times: 0.68\n",
      "Median Recall over 10-fold cross-validation repeated 10 times: 0.67\n",
      "Median F1-score over 10-fold cross-validation repeated 10 times: 0.67\n",
      "Median AUC over 10-fold cross-validation repeated 10 times: 0.71\n"
     ]
    }
   ],
   "source": [
    "# KNN\n",
    "knnclf = KNeighborsClassifier(n_neighbors=11)\n",
    "\n",
    "# Perform cross-validation and get scores for each metric\n",
    "cv_results = cross_validate(knnclf, pca_X, y, cv=cv, scoring=scoring)\n",
    "\n",
    "# Calculate median scores\n",
    "median_precision = np.median(cv_results['test_precision'])\n",
    "median_recall = np.median(cv_results['test_recall'])\n",
    "median_f1 = np.median(cv_results['test_f1'])\n",
    "median_auc = np.median(cv_results['test_roc_auc'])\n",
    "\n",
    "precision_scores.append(median_precision)\n",
    "recall_scores.append(median_recall)\n",
    "f1_scores.append(median_f1)\n",
    "auc_scores.append(median_auc)\n",
    "\n",
    "# Output the median scores\n",
    "print(f\"Median Precision over 10-fold cross-validation repeated 10 times: {median_precision:.2f}\")\n",
    "print(f\"Median Recall over 10-fold cross-validation repeated 10 times: {median_recall:.2f}\")\n",
    "print(f\"Median F1-score over 10-fold cross-validation repeated 10 times: {median_f1:.2f}\")\n",
    "print(f\"Median AUC over 10-fold cross-validation repeated 10 times: {median_auc:.2f}\")"
   ]
  },
  {
   "cell_type": "code",
   "execution_count": 45,
   "metadata": {},
   "outputs": [],
   "source": [
    "precision_scores = []\n",
    "recall_scores = []\n",
    "f1_scores = []\n",
    "auc_scores = []\n",
    "\n",
    "for i in range(0, len(cv_results['test_precision']), 10):\n",
    "    subset = cv_results['test_precision'][i:i+10]\n",
    "    median = np.median(subset)\n",
    "    precision_scores.append(median)\n",
    "\n",
    "for i in range(0, len(cv_results['test_recall']), 10):\n",
    "    subset = cv_results['test_recall'][i:i+10]\n",
    "    median = np.median(subset)\n",
    "    recall_scores.append(median)\n",
    "\n",
    "for i in range(0, len(cv_results['test_f1']), 10):\n",
    "    subset = cv_results['test_f1'][i:i+10]\n",
    "    median = np.median(subset)\n",
    "    f1_scores.append(median)\n",
    "\n",
    "for i in range(0, len(cv_results['test_roc_auc']), 10):\n",
    "    subset = cv_results['test_roc_auc'][i:i+10]\n",
    "    median = np.median(subset)\n",
    "    auc_scores.append(median)\n",
    "\n",
    "precision_scores_df['KNN'] = precision_scores\n",
    "recall_scores_df['KNN'] = recall_scores\n",
    "f1_scores_df['KNN'] = f1_scores\n",
    "auc_scores_df['KNN'] = auc_scores"
   ]
  },
  {
   "cell_type": "code",
   "execution_count": 46,
   "metadata": {},
   "outputs": [
    {
     "name": "stdout",
     "output_type": "stream",
     "text": [
      "Median Precision over 10-fold cross-validation repeated 10 times: 0.69\n",
      "Median Recall over 10-fold cross-validation repeated 10 times: 0.70\n",
      "Median F1-score over 10-fold cross-validation repeated 10 times: 0.70\n",
      "Median AUC over 10-fold cross-validation repeated 10 times: 0.70\n"
     ]
    }
   ],
   "source": [
    "# Random Forest\n",
    "rfclf = RandomForestClassifier()\n",
    "\n",
    "# Perform cross-validation and get scores for each metric\n",
    "cv_results = cross_validate(rfclf, pca_X, y, cv=cv, scoring=scoring)\n",
    "\n",
    "# Calculate median scores\n",
    "median_precision = np.median(cv_results['test_precision'])\n",
    "median_recall = np.median(cv_results['test_recall'])\n",
    "median_f1 = np.median(cv_results['test_f1'])\n",
    "median_auc = np.median(cv_results['test_roc_auc'])\n",
    "\n",
    "precision_scores.append(median_precision)\n",
    "recall_scores.append(median_recall)\n",
    "f1_scores.append(median_f1)\n",
    "auc_scores.append(median_auc)\n",
    "\n",
    "# Output the median scores\n",
    "print(f\"Median Precision over 10-fold cross-validation repeated 10 times: {median_precision:.2f}\")\n",
    "print(f\"Median Recall over 10-fold cross-validation repeated 10 times: {median_recall:.2f}\")\n",
    "print(f\"Median F1-score over 10-fold cross-validation repeated 10 times: {median_f1:.2f}\")\n",
    "print(f\"Median AUC over 10-fold cross-validation repeated 10 times: {median_auc:.2f}\")\n"
   ]
  },
  {
   "cell_type": "code",
   "execution_count": 47,
   "metadata": {},
   "outputs": [],
   "source": [
    "precision_scores = []\n",
    "recall_scores = []\n",
    "f1_scores = []\n",
    "auc_scores = []\n",
    "\n",
    "for i in range(0, len(cv_results['test_precision']), 10):\n",
    "    subset = cv_results['test_precision'][i:i+10]\n",
    "    median = np.median(subset)\n",
    "    precision_scores.append(median)\n",
    "\n",
    "for i in range(0, len(cv_results['test_recall']), 10):\n",
    "    subset = cv_results['test_recall'][i:i+10]\n",
    "    median = np.median(subset)\n",
    "    recall_scores.append(median)\n",
    "\n",
    "for i in range(0, len(cv_results['test_f1']), 10):\n",
    "    subset = cv_results['test_f1'][i:i+10]\n",
    "    median = np.median(subset)\n",
    "    f1_scores.append(median)\n",
    "\n",
    "for i in range(0, len(cv_results['test_roc_auc']), 10):\n",
    "    subset = cv_results['test_roc_auc'][i:i+10]\n",
    "    median = np.median(subset)\n",
    "    auc_scores.append(median)\n",
    "\n",
    "precision_scores_df['RF'] = precision_scores\n",
    "recall_scores_df['RF'] = recall_scores\n",
    "f1_scores_df['RF'] = f1_scores\n",
    "auc_scores_df['RF'] = auc_scores"
   ]
  },
  {
   "cell_type": "code",
   "execution_count": 48,
   "metadata": {},
   "outputs": [],
   "source": [
    "precision_scores_df.to_csv('precision_ml.csv', index=False)\n",
    "recall_scores_df.to_csv('recall_ml.csv', index=False)\n",
    "f1_scores_df.to_csv('f1_ml.csv', index=False)\n",
    "auc_scores_df.to_csv('auc_ml.csv', index=False)"
   ]
  }
 ],
 "metadata": {
  "kernelspec": {
   "display_name": "Python 3",
   "language": "python",
   "name": "python3"
  },
  "language_info": {
   "codemirror_mode": {
    "name": "ipython",
    "version": 3
   },
   "file_extension": ".py",
   "mimetype": "text/x-python",
   "name": "python",
   "nbconvert_exporter": "python",
   "pygments_lexer": "ipython3",
   "version": "3.11.5"
  }
 },
 "nbformat": 4,
 "nbformat_minor": 2
}
